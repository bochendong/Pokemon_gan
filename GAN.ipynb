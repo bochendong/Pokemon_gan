{
 "cells": [
  {
   "cell_type": "code",
   "execution_count": 2,
   "metadata": {},
   "outputs": [],
   "source": [
    "pokemon_class = ['Zapdos', 'Kadabra', 'Alolan Sandslash', 'Omanyte', 'Shellder', \n",
    "'Bellsprout', 'Eevee', 'Jolteon', 'Hypno', 'Seel', 'Zubat', 'Graveler', 'Magneton', \n",
    "'Abra', 'Kingler', 'Alakazam', 'Clefable', 'Gyarados', 'Poliwag', 'Rapidash', 'Machamp', \n",
    "'Pinsir', 'Muk', 'Seaking', 'Magikarp', 'Goldeen', 'Venusaur', 'Flareon', 'Jigglypuff', \n",
    "'Doduo', 'Weedle', 'Vileplume', 'Arcanine', 'Tentacruel', 'Gloom', 'Charmeleon', 'Articuno', \n",
    "'Sandshrew', 'Spearow', 'Marowak', 'Clefairy', 'Snorlax', 'Scyther', 'Primeape', 'Diglett', \n",
    "'Onix', 'Mankey', 'Rattata', 'Voltorb', 'Gengar', 'Gastly', 'Cloyster', 'Weepinbell', 'Dragonair', \n",
    "'Squirtle', 'Pikachu', 'Victreebel', 'Charmander', 'Staryu', 'Venonat', 'Vaporeon', 'Ivysaur', \n",
    "'Krabby', 'Drowzee', 'Sandslash', 'Kangaskhan', 'Chansey', 'Butterfree', 'Starmie', 'Magmar', \n",
    "'Beedrill', 'Ninetales', 'Magnemite', 'Metapod', 'Electrode', 'Raichu', 'Fearow', 'Mewtwo', \n",
    "'Kabuto', 'Pidgeotto', 'Hitmonchan', 'Blastoise', 'Weezing', 'Golbat', 'Seadra', 'Rhyhorn', \n",
    "'Moltres', 'Golduck', 'Kabutops', 'Aerodactyl', 'Haunter', 'Machop', 'Koffing', 'Pidgeot', \n",
    "'Wigglytuff', 'Porygon', 'Vulpix', 'Dugtrio', 'Ditto', 'Raticate', 'Geodude', 'Tentacool', \n",
    "'Horsea', 'Oddish', 'Machoke', 'Lapras', 'Poliwrath', 'Omastar', 'Slowpoke', 'Bulbasaur', 'Growlithe', \n",
    "'Ponyta', 'Parasect', 'Dodrio', 'Meowth', 'Exeggutor', 'Persian', 'Psyduck', 'Tauros', 'Pidgey', \n",
    "'Electabuzz', 'Dewgong', 'Wartortle', 'Nidoking', 'Grimer', 'Ekans', 'Caterpie', 'Tangela', 'Kakuna', \n",
    "'Golem', 'Slowbro', 'MrMime', 'Jynx', 'Mew', 'Paras', 'Hitmonlee', 'Exeggcute', 'Arbok', 'Venomoth', \n",
    "'Dratini', 'Cubone', 'Rhydon', 'Dragonite', 'Nidorino', 'Lickitung', 'Nidorina', 'Charizard', \n",
    "'Poliwhirl', 'Nidoqueen', 'Farfetchd']\n"
   ]
  },
  {
   "cell_type": "code",
   "execution_count": 1,
   "metadata": {},
   "outputs": [
    {
     "name": "stdout",
     "output_type": "stream",
     "text": [
      "['Zapdos', 'Kadabra', 'Alolan Sandslash', 'Omanyte', 'Shellder', 'Bellsprout', 'Eevee', 'Jolteon', 'Hypno', 'Seel', 'Zubat', 'Graveler', 'Magneton', 'Abra', 'Kingler', 'Alakazam', 'Clefable', 'Gyarados', 'Poliwag', 'Rapidash', 'Machamp', 'Pinsir', 'Muk', 'Seaking', 'Magikarp', 'Goldeen', 'Venusaur', 'Flareon', 'Jigglypuff', 'Doduo', 'Weedle', 'Vileplume', 'Arcanine', 'Tentacruel', 'Gloom', 'Charmeleon', 'Articuno', 'Sandshrew', 'Spearow', 'Marowak', 'Clefairy', 'Snorlax', 'Scyther', 'Primeape', 'Diglett', 'Onix', 'Mankey', 'Rattata', 'Voltorb', 'Gengar', 'Gastly', 'Cloyster', 'Weepinbell', 'Dragonair', 'Squirtle', 'Pikachu', 'Victreebel', 'Charmander', 'Staryu', 'Venonat', 'Vaporeon', 'Ivysaur', 'Krabby', 'Drowzee', 'Sandslash', 'Kangaskhan', 'Chansey', 'Butterfree', 'Starmie', 'Magmar', 'Beedrill', 'Ninetales', 'Magnemite', 'Metapod', 'Electrode', 'Raichu', 'Fearow', 'Mewtwo', 'Kabuto', 'Pidgeotto', 'Hitmonchan', 'Blastoise', 'Weezing', 'Golbat', 'Seadra', 'Rhyhorn', 'Moltres', 'Golduck', 'Kabutops', 'Aerodactyl', 'Haunter', 'Machop', 'Koffing', 'Pidgeot', 'Wigglytuff', 'Porygon', 'Vulpix', 'Dugtrio', 'Ditto', 'Raticate', 'Geodude', 'Tentacool', 'Horsea', 'Oddish', 'Machoke', 'Lapras', 'Poliwrath', 'Omastar', 'Slowpoke', 'Bulbasaur', 'Growlithe', 'Ponyta', 'Parasect', 'Dodrio', 'Meowth', 'Exeggutor', 'Persian', 'Psyduck', 'Tauros', 'Pidgey', 'Electabuzz', 'Dewgong', 'Wartortle', 'Nidoking', 'Grimer', 'Ekans', 'Caterpie', 'Tangela', 'Kakuna', 'Golem', 'Slowbro', 'MrMime', 'Jynx', 'Mew', 'Paras', 'Hitmonlee', 'Exeggcute', 'Arbok', 'Venomoth', 'Dratini', 'Cubone', 'Rhydon', 'Dragonite', 'Nidorino', 'Lickitung', 'Nidorina', 'Charizard', 'Poliwhirl', 'Nidoqueen', 'Farfetchd']\n"
     ]
    }
   ],
   "source": [
    "import os\n",
    "\n",
    "directory = \"./PokemonData\"\n",
    "labels = os.listdir(directory)\n",
    "nb = len(labels)\n",
    "print(labels)"
   ]
  },
  {
   "cell_type": "code",
   "execution_count": 3,
   "metadata": {},
   "outputs": [],
   "source": [
    "for pokemon in pokemon_class:\n",
    "    path = \"./savedData/\" + pokemon\n",
    "    os.mkdir(path)"
   ]
  }
 ],
 "metadata": {
  "interpreter": {
   "hash": "31f2aee4e71d21fbe5cf8b01ff0e069b9275f58929596ceb00d14d90e3e16cd6"
  },
  "kernelspec": {
   "display_name": "Python 3.8.2 64-bit",
   "language": "python",
   "name": "python3"
  },
  "language_info": {
   "codemirror_mode": {
    "name": "ipython",
    "version": 3
   },
   "file_extension": ".py",
   "mimetype": "text/x-python",
   "name": "python",
   "nbconvert_exporter": "python",
   "pygments_lexer": "ipython3",
   "version": "3.8.2"
  },
  "orig_nbformat": 4
 },
 "nbformat": 4,
 "nbformat_minor": 2
}
